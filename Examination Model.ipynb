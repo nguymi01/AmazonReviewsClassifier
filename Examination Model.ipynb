{
 "cells": [
  {
   "cell_type": "code",
   "execution_count": 1,
   "id": "048c5a60",
   "metadata": {},
   "outputs": [],
   "source": [
    "import pandas as pd\n",
    "import numpy as np\n",
    "from sklearn.model_selection import train_test_split\n",
    "from sklearn.feature_extraction.text import CountVectorizer, TfidfVectorizer\n",
    "from sklearn.linear_model import Ridge\n",
    "from sklearn.metrics import accuracy_score, mean_squared_error\n",
    "import matplotlib.pyplot as plt\n",
    "import pickle\n",
    "from sklearn.metrics import r2_score, mean_absolute_error\n",
    "import seaborn as sns\n",
    "import pandas as pd\n",
    "import matplotlib.pyplot as plt\n",
    "import pickle\n",
    "from scipy.sparse import hstack\n",
    "X_train = pd.read_csv(\"./data/X_train_stemmed.csv\")\n",
    "X_train[\"SummaryReview\"] = X_train[\"Summary\"] + \" \" + X_train[\"Text\"]\n",
    "\n",
    "X_train['SummaryReview'].fillna('', inplace=True)\n",
    "\n",
    "X_train, X_test, Y_train, Y_test = train_test_split(\n",
    "        X_train.drop(['Score'], axis=1),\n",
    "        X_train['Score'],\n",
    "        test_size=1/4,\n",
    "        random_state=0\n",
    ")\n",
    "\n",
    "X_train_processed = X_train.drop(columns=['Id'])\n",
    "X_test_processed = X_test.drop(columns=['Id'])\n",
    "\n"
   ]
  },
  {
   "cell_type": "code",
   "execution_count": 2,
   "id": "38ba528f",
   "metadata": {},
   "outputs": [],
   "source": [
    "tfidf_transformer = TfidfVectorizer(ngram_range=(1,4))\n",
    "X_train_tfidf = tfidf_transformer.fit_transform(X_train_processed['SummaryReview'])"
   ]
  },
  {
   "cell_type": "code",
   "execution_count": 3,
   "id": "184cd6de",
   "metadata": {},
   "outputs": [
    {
     "data": {
      "text/plain": [
       "Index(['Unnamed: 0', 'Id', 'ProductId', 'UserId', 'HelpfulnessNumerator',\n",
       "       'HelpfulnessDenominator', 'Time', 'Summary', 'Text', 'Helpfulness',\n",
       "       'ReviewLength', 'SummaryLength', 'product_count', 'sentiment_scores',\n",
       "       'Real_Time', 'Year', 'Month', 'Day', 'Summary_Stemmed', 'Text_Stemmed',\n",
       "       'neg_scores', 'pos_scores', 'SummaryReview'],\n",
       "      dtype='object')"
      ]
     },
     "execution_count": 3,
     "metadata": {},
     "output_type": "execute_result"
    }
   ],
   "source": [
    "X_train.columns"
   ]
  },
  {
   "cell_type": "code",
   "execution_count": 43,
   "id": "e1dd750f",
   "metadata": {},
   "outputs": [],
   "source": [
    "# X_train['AVG_helpful'] = X_train.groupby('ProductId')['Helpfulness'].transform('mean')\n",
    "# X_test['AVG_helpful'] = X_test.groupby('ProductId')['Helpfulness'].transform('mean')\n"
   ]
  },
  {
   "cell_type": "code",
   "execution_count": 4,
   "id": "ab5f90b1",
   "metadata": {},
   "outputs": [],
   "source": [
    "X_train_data = hstack([X_train_tfidf,\n",
    "                       np.array(X_train['Helpfulness']).reshape(-1,1),\n",
    "                       np.array(X_train['HelpfulnessNumerator']).reshape(-1,1),\n",
    "                       np.array(X_train['HelpfulnessDenominator']).reshape(-1,1),\n",
    "                       np.array(X_train['sentiment_scores']).reshape(-1,1),\n",
    "                        np.array(X_train['pos_scores']).reshape(-1,1),\n",
    "                        np.array(X_train['neg_scores']).reshape(-1,1),\n",
    "                     ]\n",
    "                     )"
   ]
  },
  {
   "cell_type": "code",
   "execution_count": 10,
   "id": "8993e71c",
   "metadata": {},
   "outputs": [
    {
     "data": {
      "text/html": [
       "<style>#sk-container-id-3 {color: black;}#sk-container-id-3 pre{padding: 0;}#sk-container-id-3 div.sk-toggleable {background-color: white;}#sk-container-id-3 label.sk-toggleable__label {cursor: pointer;display: block;width: 100%;margin-bottom: 0;padding: 0.3em;box-sizing: border-box;text-align: center;}#sk-container-id-3 label.sk-toggleable__label-arrow:before {content: \"▸\";float: left;margin-right: 0.25em;color: #696969;}#sk-container-id-3 label.sk-toggleable__label-arrow:hover:before {color: black;}#sk-container-id-3 div.sk-estimator:hover label.sk-toggleable__label-arrow:before {color: black;}#sk-container-id-3 div.sk-toggleable__content {max-height: 0;max-width: 0;overflow: hidden;text-align: left;background-color: #f0f8ff;}#sk-container-id-3 div.sk-toggleable__content pre {margin: 0.2em;color: black;border-radius: 0.25em;background-color: #f0f8ff;}#sk-container-id-3 input.sk-toggleable__control:checked~div.sk-toggleable__content {max-height: 200px;max-width: 100%;overflow: auto;}#sk-container-id-3 input.sk-toggleable__control:checked~label.sk-toggleable__label-arrow:before {content: \"▾\";}#sk-container-id-3 div.sk-estimator input.sk-toggleable__control:checked~label.sk-toggleable__label {background-color: #d4ebff;}#sk-container-id-3 div.sk-label input.sk-toggleable__control:checked~label.sk-toggleable__label {background-color: #d4ebff;}#sk-container-id-3 input.sk-hidden--visually {border: 0;clip: rect(1px 1px 1px 1px);clip: rect(1px, 1px, 1px, 1px);height: 1px;margin: -1px;overflow: hidden;padding: 0;position: absolute;width: 1px;}#sk-container-id-3 div.sk-estimator {font-family: monospace;background-color: #f0f8ff;border: 1px dotted black;border-radius: 0.25em;box-sizing: border-box;margin-bottom: 0.5em;}#sk-container-id-3 div.sk-estimator:hover {background-color: #d4ebff;}#sk-container-id-3 div.sk-parallel-item::after {content: \"\";width: 100%;border-bottom: 1px solid gray;flex-grow: 1;}#sk-container-id-3 div.sk-label:hover label.sk-toggleable__label {background-color: #d4ebff;}#sk-container-id-3 div.sk-serial::before {content: \"\";position: absolute;border-left: 1px solid gray;box-sizing: border-box;top: 0;bottom: 0;left: 50%;z-index: 0;}#sk-container-id-3 div.sk-serial {display: flex;flex-direction: column;align-items: center;background-color: white;padding-right: 0.2em;padding-left: 0.2em;position: relative;}#sk-container-id-3 div.sk-item {position: relative;z-index: 1;}#sk-container-id-3 div.sk-parallel {display: flex;align-items: stretch;justify-content: center;background-color: white;position: relative;}#sk-container-id-3 div.sk-item::before, #sk-container-id-3 div.sk-parallel-item::before {content: \"\";position: absolute;border-left: 1px solid gray;box-sizing: border-box;top: 0;bottom: 0;left: 50%;z-index: -1;}#sk-container-id-3 div.sk-parallel-item {display: flex;flex-direction: column;z-index: 1;position: relative;background-color: white;}#sk-container-id-3 div.sk-parallel-item:first-child::after {align-self: flex-end;width: 50%;}#sk-container-id-3 div.sk-parallel-item:last-child::after {align-self: flex-start;width: 50%;}#sk-container-id-3 div.sk-parallel-item:only-child::after {width: 0;}#sk-container-id-3 div.sk-dashed-wrapped {border: 1px dashed gray;margin: 0 0.4em 0.5em 0.4em;box-sizing: border-box;padding-bottom: 0.4em;background-color: white;}#sk-container-id-3 div.sk-label label {font-family: monospace;font-weight: bold;display: inline-block;line-height: 1.2em;}#sk-container-id-3 div.sk-label-container {text-align: center;}#sk-container-id-3 div.sk-container {/* jupyter's `normalize.less` sets `[hidden] { display: none; }` but bootstrap.min.css set `[hidden] { display: none !important; }` so we also need the `!important` here to be able to override the default hidden behavior on the sphinx rendered scikit-learn.org. See: https://github.com/scikit-learn/scikit-learn/issues/21755 */display: inline-block !important;position: relative;}#sk-container-id-3 div.sk-text-repr-fallback {display: none;}</style><div id=\"sk-container-id-3\" class=\"sk-top-container\"><div class=\"sk-text-repr-fallback\"><pre>Ridge(alpha=0.009)</pre><b>In a Jupyter environment, please rerun this cell to show the HTML representation or trust the notebook. <br />On GitHub, the HTML representation is unable to render, please try loading this page with nbviewer.org.</b></div><div class=\"sk-container\" hidden><div class=\"sk-item\"><div class=\"sk-estimator sk-toggleable\"><input class=\"sk-toggleable__control sk-hidden--visually\" id=\"sk-estimator-id-3\" type=\"checkbox\" checked><label for=\"sk-estimator-id-3\" class=\"sk-toggleable__label sk-toggleable__label-arrow\">Ridge</label><div class=\"sk-toggleable__content\"><pre>Ridge(alpha=0.009)</pre></div></div></div></div></div>"
      ],
      "text/plain": [
       "Ridge(alpha=0.009)"
      ]
     },
     "execution_count": 10,
     "metadata": {},
     "output_type": "execute_result"
    }
   ],
   "source": [
    "ridge = Ridge(alpha=0.09)\n",
    "ridge.fit(X_train_data, Y_train)"
   ]
  },
  {
   "cell_type": "code",
   "execution_count": 11,
   "id": "ef9915bf",
   "metadata": {},
   "outputs": [
    {
     "name": "stdout",
     "output_type": "stream",
     "text": [
      "RMSE on testing set =  0.7319420531519191\n"
     ]
    }
   ],
   "source": [
    "X_test_tfidf = tfidf_transformer.transform(X_test_processed['SummaryReview'])\n",
    "Y_test_predictions = ridge.predict(hstack([X_test_tfidf,\n",
    "                                           np.array(X_test['Helpfulness']).reshape(-1,1)\n",
    "                                          ,np.array(X_test['HelpfulnessNumerator']).reshape(-1,1),\n",
    "                                           np.array(X_test['HelpfulnessDenominator']).reshape(-1,1),\n",
    "                                            np.array(X_test['sentiment_scores']).reshape(-1,1),\n",
    "                                            np.array(X_test['pos_scores']).reshape(-1,1),\n",
    "                                            np.array(X_test['neg_scores']).reshape(-1,1),\n",
    "                                          ]\n",
    "                                         )).clip(1,5)\n",
    "print(\"RMSE on testing set = \", mean_squared_error(Y_test, Y_test_predictions)**0.5)"
   ]
  },
  {
   "cell_type": "markdown",
   "id": "236da8a4",
   "metadata": {},
   "source": [
    "## Test Set\n"
   ]
  },
  {
   "cell_type": "code",
   "execution_count": 12,
   "id": "a5d75eef",
   "metadata": {},
   "outputs": [
    {
     "data": {
      "text/html": [
       "<div>\n",
       "<style scoped>\n",
       "    .dataframe tbody tr th:only-of-type {\n",
       "        vertical-align: middle;\n",
       "    }\n",
       "\n",
       "    .dataframe tbody tr th {\n",
       "        vertical-align: top;\n",
       "    }\n",
       "\n",
       "    .dataframe thead th {\n",
       "        text-align: right;\n",
       "    }\n",
       "</style>\n",
       "<table border=\"1\" class=\"dataframe\">\n",
       "  <thead>\n",
       "    <tr style=\"text-align: right;\">\n",
       "      <th></th>\n",
       "      <th>Id</th>\n",
       "      <th>Score</th>\n",
       "    </tr>\n",
       "  </thead>\n",
       "  <tbody>\n",
       "    <tr>\n",
       "      <th>0</th>\n",
       "      <td>786781</td>\n",
       "      <td>3.507362</td>\n",
       "    </tr>\n",
       "    <tr>\n",
       "      <th>1</th>\n",
       "      <td>17153</td>\n",
       "      <td>4.742020</td>\n",
       "    </tr>\n",
       "    <tr>\n",
       "      <th>2</th>\n",
       "      <td>1557328</td>\n",
       "      <td>3.093921</td>\n",
       "    </tr>\n",
       "    <tr>\n",
       "      <th>3</th>\n",
       "      <td>1242666</td>\n",
       "      <td>4.390777</td>\n",
       "    </tr>\n",
       "    <tr>\n",
       "      <th>4</th>\n",
       "      <td>1359242</td>\n",
       "      <td>4.645110</td>\n",
       "    </tr>\n",
       "  </tbody>\n",
       "</table>\n",
       "</div>"
      ],
      "text/plain": [
       "        Id     Score\n",
       "0   786781  3.507362\n",
       "1    17153  4.742020\n",
       "2  1557328  3.093921\n",
       "3  1242666  4.390777\n",
       "4  1359242  4.645110"
      ]
     },
     "metadata": {},
     "output_type": "display_data"
    }
   ],
   "source": [
    "test_set = pd.read_csv(\"./data/X_test_stemmed.csv\")\n",
    "test_set[\"SummaryReview\"] = test_set[\"Summary\"] + \" \" + test_set[\"Text\"]\n",
    "test_tfidf = tfidf_transformer.transform(test_set['SummaryReview'])\n",
    "\n",
    "\n",
    "prediction = ridge.predict(hstack([test_tfidf,\n",
    "                                    np.array(test_set['Helpfulness']).reshape(-1,1),\n",
    "                                    np.array(test_set['HelpfulnessNumerator']).reshape(-1,1),\n",
    "                                   np.array(test_set['HelpfulnessDenominator']).reshape(-1,1),\n",
    "                                   np.array(test_set['sentiment_scores']).reshape(-1,1),\n",
    "                                    np.array(test_set['pos_scores']).reshape(-1,1),\n",
    "                                    np.array(test_set['neg_scores']).reshape(-1,1),\n",
    "                                             ])).clip(1,5)\n",
    "\n",
    "test_set['Score'] = prediction\n",
    "submission = test_set[['Id', 'Score']]\n",
    "display(submission.head())\n",
    "submission.to_csv(\"./submissionn24.csv\", index=False)"
   ]
  },
  {
   "cell_type": "markdown",
   "id": "57238a1b",
   "metadata": {},
   "source": [
    "## Bagging Regressor - Not as good"
   ]
  },
  {
   "cell_type": "code",
   "execution_count": 104,
   "id": "218b9200",
   "metadata": {},
   "outputs": [],
   "source": [
    "from sklearn.ensemble import BaggingRegressor\n",
    "\n",
    "regr = BaggingRegressor(estimator=Ridge(),\n",
    "                       n_estimators=10, random_state=1).fit(X_train_data, Y_train)"
   ]
  },
  {
   "cell_type": "code",
   "execution_count": 105,
   "id": "ef27df44",
   "metadata": {},
   "outputs": [
    {
     "name": "stdout",
     "output_type": "stream",
     "text": [
      "RMSE on testing set =  0.7499511441259488\n"
     ]
    }
   ],
   "source": [
    "# X_test_tfidf = tfidf_transformer.transform(X_test_processed['SummaryReview'])\n",
    "Y_test_predictions = regr.predict(hstack([X_test_tfidf,\n",
    "                                           np.array(X_test['Helpfulness']).reshape(-1,1)\n",
    "                                          ,np.array(X_test['HelpfulnessNumerator']).reshape(-1,1),\n",
    "                                           np.array(X_test['HelpfulnessDenominator']).reshape(-1,1),\n",
    "                                            np.array(X_test['sentiment_scores']).reshape(-1,1),\n",
    "                                            np.array(X_test['pos_scores']).reshape(-1,1),\n",
    "                        np.array(X_test['neg_scores']).reshape(-1,1),\n",
    "                                          ]\n",
    "                                         )).clip(1,5)\n",
    "print(\"RMSE on testing set = \", mean_squared_error(Y_test, Y_test_predictions)**0.5)"
   ]
  },
  {
   "cell_type": "code",
   "execution_count": 61,
   "id": "6cd9e617",
   "metadata": {},
   "outputs": [
    {
     "data": {
      "text/html": [
       "<div>\n",
       "<style scoped>\n",
       "    .dataframe tbody tr th:only-of-type {\n",
       "        vertical-align: middle;\n",
       "    }\n",
       "\n",
       "    .dataframe tbody tr th {\n",
       "        vertical-align: top;\n",
       "    }\n",
       "\n",
       "    .dataframe thead th {\n",
       "        text-align: right;\n",
       "    }\n",
       "</style>\n",
       "<table border=\"1\" class=\"dataframe\">\n",
       "  <thead>\n",
       "    <tr style=\"text-align: right;\">\n",
       "      <th></th>\n",
       "      <th>Id</th>\n",
       "      <th>Score</th>\n",
       "    </tr>\n",
       "  </thead>\n",
       "  <tbody>\n",
       "    <tr>\n",
       "      <th>0</th>\n",
       "      <td>786781</td>\n",
       "      <td>3.378939</td>\n",
       "    </tr>\n",
       "    <tr>\n",
       "      <th>1</th>\n",
       "      <td>17153</td>\n",
       "      <td>4.567851</td>\n",
       "    </tr>\n",
       "    <tr>\n",
       "      <th>2</th>\n",
       "      <td>1557328</td>\n",
       "      <td>3.109433</td>\n",
       "    </tr>\n",
       "    <tr>\n",
       "      <th>3</th>\n",
       "      <td>1242666</td>\n",
       "      <td>4.259523</td>\n",
       "    </tr>\n",
       "    <tr>\n",
       "      <th>4</th>\n",
       "      <td>1359242</td>\n",
       "      <td>4.947128</td>\n",
       "    </tr>\n",
       "  </tbody>\n",
       "</table>\n",
       "</div>"
      ],
      "text/plain": [
       "        Id     Score\n",
       "0   786781  3.378939\n",
       "1    17153  4.567851\n",
       "2  1557328  3.109433\n",
       "3  1242666  4.259523\n",
       "4  1359242  4.947128"
      ]
     },
     "metadata": {},
     "output_type": "display_data"
    }
   ],
   "source": [
    "test_set = pd.read_csv(\"./data/X_test_stemmed.csv\")\n",
    "test_set[\"SummaryReview\"] = test_set[\"Summary\"] + \" \" + test_set[\"Text\"]\n",
    "test_tfidf = tfidf_transformer.transform(test_set['SummaryReview'])\n",
    "\n",
    "\n",
    "prediction = regr.predict(hstack([test_tfidf,\n",
    "                                    np.array(test_set['Helpfulness']).reshape(-1,1),\n",
    "                                    np.array(test_set['HelpfulnessNumerator']).reshape(-1,1),\n",
    "                                   np.array(test_set['HelpfulnessDenominator']).reshape(-1,1),\n",
    "                                   np.array(test_set['sentiment_scores']).reshape(-1,1),\n",
    "                                    np.array(test_set['pos_scores']).reshape(-1,1),\n",
    "                                    np.array(test_set['neg_scores']).reshape(-1,1),\n",
    "                                             ])).clip(1,5)\n",
    "\n",
    "test_set['Score'] = prediction\n",
    "submission = test_set[['Id', 'Score']]\n",
    "display(submission.head())\n",
    "submission.to_csv(\"./submissionn24.csv\", index=False)"
   ]
  }
 ],
 "metadata": {
  "kernelspec": {
   "display_name": "Python 3 (ipykernel)",
   "language": "python",
   "name": "python3"
  },
  "language_info": {
   "codemirror_mode": {
    "name": "ipython",
    "version": 3
   },
   "file_extension": ".py",
   "mimetype": "text/x-python",
   "name": "python",
   "nbconvert_exporter": "python",
   "pygments_lexer": "ipython3",
   "version": "3.11.5"
  }
 },
 "nbformat": 4,
 "nbformat_minor": 5
}
